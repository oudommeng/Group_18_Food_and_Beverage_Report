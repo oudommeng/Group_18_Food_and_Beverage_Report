{
 "cells": [
  {
   "cell_type": "code",
   "execution_count": 1,
   "metadata": {},
   "outputs": [],
   "source": [
    "import pandas as pd\n",
    "\n",
    "# Read the Excel file with multiple sheets\n",
    "excel_file = 'SalesData.xlsx'\n",
    "sheets = pd.read_excel(excel_file, sheet_name=None)\n",
    "\n",
    "# Iterate through each sheet and save it as a CSV file\n",
    "for sheet_name, df in sheets.items():\n",
    "    csv_file = f'{sheet_name}.csv'\n",
    "    df.to_csv(csv_file, index=False)"
   ]
  }
 ],
 "metadata": {
  "kernelspec": {
   "display_name": "Python 3",
   "language": "python",
   "name": "python3"
  },
  "language_info": {
   "codemirror_mode": {
    "name": "ipython",
    "version": 3
   },
   "file_extension": ".py",
   "mimetype": "text/x-python",
   "name": "python",
   "nbconvert_exporter": "python",
   "pygments_lexer": "ipython3",
   "version": "3.10.12"
  }
 },
 "nbformat": 4,
 "nbformat_minor": 2
}
